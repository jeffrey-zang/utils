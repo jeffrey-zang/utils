{
 "cells": [
  {
   "cell_type": "markdown",
   "metadata": {},
   "source": [
    "# Spotify Listening Data Analysis\n",
    "\n",
    "This notebook analyzes your Spotify listening history to uncover patterns, trends, and insights about your music consumption."
   ]
  },
  {
   "cell_type": "code",
   "execution_count": null,
   "metadata": {},
   "outputs": [],
   "source": [
    "import pandas as pd\n",
    "import numpy as np\n",
    "import matplotlib.pyplot as plt\n",
    "import seaborn as sns\n",
    "import plotly.express as px\n",
    "import plotly.graph_objects as go\n",
    "from plotly.subplots import make_subplots\n",
    "from data_loader import load_spotify_data, get_data_summary\n",
    "\n",
    "plt.style.use('default')\n",
    "sns.set_palette(\"husl\")\n",
    "\n",
    "%matplotlib inline"
   ]
  },
  {
   "cell_type": "code",
   "execution_count": null,
   "metadata": {},
   "outputs": [],
   "source": [
    "df = load_spotify_data()\n",
    "summary = get_data_summary(df)\n",
    "\n",
    "print(\"Dataset loaded successfully!\")\n",
    "print(f\"Shape: {df.shape}\")\n",
    "df.head()"
   ]
  },
  {
   "cell_type": "markdown",
   "metadata": {},
   "source": [
    "## 📊 Data Overview"
   ]
  },
  {
   "cell_type": "code",
   "execution_count": null,
   "metadata": {},
   "outputs": [],
   "source": [
    "for key, value in summary.items():\n",
    "    print(f\"{key.replace('_', ' ').title()}: {value}\")"
   ]
  },
  {
   "cell_type": "markdown",
   "metadata": {},
   "source": [
    "## 🎵 Top Artists & Tracks"
   ]
  },
  {
   "cell_type": "code",
   "execution_count": null,
   "metadata": {},
   "outputs": [],
   "source": [
    "fig, axes = plt.subplots(2, 2, figsize=(15, 12))\n",
    "\n",
    "top_artists = df.groupby('track_artist')['minutes_played'].sum().sort_values(ascending=False).head(10)\n",
    "top_artists.plot(kind='barh', ax=axes[0,0], color='skyblue')\n",
    "axes[0,0].set_title('Top 10 Artists by Listening Time')\n",
    "axes[0,0].set_xlabel('Minutes Played')\n",
    "\n",
    "top_tracks = df.groupby(['track_name', 'track_artist'])['minutes_played'].sum().sort_values(ascending=False).head(10)\n",
    "track_labels = [f\"{track} - {artist}\" for (track, artist) in top_tracks.index]\n",
    "top_tracks.values\n",
    "axes[0,1].barh(range(len(top_tracks)), top_tracks.values, color='lightcoral')\n",
    "axes[0,1].set_yticks(range(len(top_tracks)))\n",
    "axes[0,1].set_yticklabels([label[:30] + '...' if len(label) > 30 else label for label in track_labels])\n",
    "axes[0,1].set_title('Top 10 Tracks by Listening Time')\n",
    "axes[0,1].set_xlabel('Minutes Played')\n",
    "\n",
    "most_played_artists = df['track_artist'].value_counts().head(10)\n",
    "most_played_artists.plot(kind='barh', ax=axes[1,0], color='lightgreen')\n",
    "axes[1,0].set_title('Top 10 Artists by Play Count')\n",
    "axes[1,0].set_xlabel('Number of Plays')\n",
    "\n",
    "most_played_tracks = df.groupby(['track_name', 'track_artist']).size().sort_values(ascending=False).head(10)\n",
    "track_labels = [f\"{track} - {artist}\" for (track, artist) in most_played_tracks.index]\n",
    "axes[1,1].barh(range(len(most_played_tracks)), most_played_tracks.values, color='gold')\n",
    "axes[1,1].set_yticks(range(len(most_played_tracks)))\n",
    "axes[1,1].set_yticklabels([label[:30] + '...' if len(label) > 30 else label for label in track_labels])\n",
    "axes[1,1].set_title('Top 10 Tracks by Play Count')\n",
    "axes[1,1].set_xlabel('Number of Plays')\n",
    "\n",
    "plt.tight_layout()\n",
    "plt.show()"
   ]
  },
  {
   "cell_type": "markdown",
   "metadata": {},
   "source": [
    "## ⏰ Listening Patterns Over Time"
   ]
  },
  {
   "cell_type": "code",
   "execution_count": null,
   "metadata": {},
   "outputs": [],
   "source": [
    "daily_listening = df.groupby('date')['minutes_played'].sum().reset_index()\n",
    "\n",
    "fig = px.line(daily_listening, x='date', y='minutes_played', \n",
    "              title='Daily Listening Time Over Time',\n",
    "              labels={'minutes_played': 'Minutes Played', 'date': 'Date'})\n",
    "fig.update_layout(height=400)\n",
    "fig.show()"
   ]
  },
  {
   "cell_type": "code",
   "execution_count": null,
   "metadata": {},
   "outputs": [],
   "source": [
    "fig, axes = plt.subplots(2, 2, figsize=(15, 10))\n",
    "\n",
    "hourly_listening = df.groupby('hour')['minutes_played'].sum()\n",
    "hourly_listening.plot(kind='bar', ax=axes[0,0], color='purple', alpha=0.7)\n",
    "axes[0,0].set_title('Listening by Hour of Day')\n",
    "axes[0,0].set_xlabel('Hour')\n",
    "axes[0,0].set_ylabel('Minutes Played')\n",
    "axes[0,0].tick_params(axis='x', rotation=0)\n",
    "\n",
    "day_order = ['Monday', 'Tuesday', 'Wednesday', 'Thursday', 'Friday', 'Saturday', 'Sunday']\n",
    "daily_listening = df.groupby('day_of_week')['minutes_played'].sum().reindex(day_order)\n",
    "daily_listening.plot(kind='bar', ax=axes[0,1], color='orange', alpha=0.7)\n",
    "axes[0,1].set_title('Listening by Day of Week')\n",
    "axes[0,1].set_xlabel('Day')\n",
    "axes[0,1].set_ylabel('Minutes Played')\n",
    "axes[0,1].tick_params(axis='x', rotation=45)\n",
    "\n",
    "monthly_listening = df.groupby('month')['minutes_played'].sum()\n",
    "monthly_listening.plot(kind='bar', ax=axes[1,0], color='green', alpha=0.7)\n",
    "axes[1,0].set_title('Listening by Month')\n",
    "axes[1,0].set_xlabel('Month')\n",
    "axes[1,0].set_ylabel('Minutes Played')\n",
    "axes[1,0].tick_params(axis='x', rotation=45)\n",
    "\n",
    "skip_by_hour = df.groupby('hour')['is_skip'].mean() * 100\n",
    "skip_by_hour.plot(kind='line', ax=axes[1,1], color='red', marker='o')\n",
    "axes[1,1].set_title('Skip Rate by Hour of Day')\n",
    "axes[1,1].set_xlabel('Hour')\n",
    "axes[1,1].set_ylabel('Skip Rate (%)')\n",
    "\n",
    "plt.tight_layout()\n",
    "plt.show()"
   ]
  },
  {
   "cell_type": "markdown",
   "metadata": {},
   "source": [
    "## 🎯 Listening Behavior Analysis"
   ]
  },
  {
   "cell_type": "code",
   "execution_count": null,
   "metadata": {},
   "outputs": [],
   "source": [
    "fig, axes = plt.subplots(2, 2, figsize=(15, 10))\n",
    "\n",
    "df['minutes_played'].hist(bins=50, ax=axes[0,0], alpha=0.7, color='blue')\n",
    "axes[0,0].set_title('Distribution of Track Listening Duration')\n",
    "axes[0,0].set_xlabel('Minutes Played')\n",
    "axes[0,0].set_ylabel('Frequency')\n",
    "axes[0,0].axvline(df['minutes_played'].mean(), color='red', linestyle='--', label=f'Mean: {df[\"minutes_played\"].mean():.1f} min')\n",
    "axes[0,0].legend()\n",
    "\n",
    "platform_counts = df['platform'].value_counts()\n",
    "platform_counts.plot(kind='pie', ax=axes[0,1], autopct='%1.1f%%')\n",
    "axes[0,1].set_title('Listening by Platform')\n",
    "axes[0,1].set_ylabel('')\n",
    "\n",
    "skip_reasons = df[df['is_skip']]['reason_end'].value_counts().head(10)\n",
    "skip_reasons.plot(kind='barh', ax=axes[1,0], color='salmon')\n",
    "axes[1,0].set_title('Top Skip Reasons')\n",
    "axes[1,0].set_xlabel('Count')\n",
    "\n",
    "session_lengths = df.groupby('listening_session')['minutes_played'].sum()\n",
    "session_lengths.hist(bins=30, ax=axes[1,1], alpha=0.7, color='green')\n",
    "axes[1,1].set_title('Distribution of Listening Session Lengths')\n",
    "axes[1,1].set_xlabel('Session Length (minutes)')\n",
    "axes[1,1].set_ylabel('Frequency')\n",
    "axes[1,1].axvline(session_lengths.mean(), color='red', linestyle='--', label=f'Mean: {session_lengths.mean():.1f} min')\n",
    "axes[1,1].legend()\n",
    "\n",
    "plt.tight_layout()\n",
    "plt.show()"
   ]
  },
  {
   "cell_type": "markdown",
   "metadata": {},
   "source": [
    "## 🔍 Advanced Analysis"
   ]
  },
  {
   "cell_type": "code",
   "execution_count": null,
   "metadata": {},
   "outputs": [],
   "source": [
    "artist_diversity = df.groupby('date')['track_artist'].nunique().reset_index()\n",
    "artist_diversity.columns = ['date', 'unique_artists']\n",
    "\n",
    "fig = px.scatter(artist_diversity, x='date', y='unique_artists',\n",
    "                title='Musical Diversity Over Time (Unique Artists per Day)',\n",
    "                labels={'unique_artists': 'Unique Artists', 'date': 'Date'})\n",
    "fig.update_layout(height=400)\n",
    "fig.show()"
   ]
  },
  {
   "cell_type": "code",
   "execution_count": null,
   "metadata": {},
   "outputs": [],
   "source": [
    "repeat_listening = df.groupby(['track_name', 'track_artist']).agg({\n",
    "    'minutes_played': 'sum',\n",
    "    'ts': 'count'\n",
    "}).rename(columns={'ts': 'play_count'}).reset_index()\n",
    "\n",
    "repeat_listening['avg_minutes_per_play'] = repeat_listening['minutes_played'] / repeat_listening['play_count']\n",
    "\n",
    "fig = px.scatter(repeat_listening, \n",
    "                x='play_count', \n",
    "                y='minutes_played',\n",
    "                size='avg_minutes_per_play',\n",
    "                hover_data=['track_name', 'track_artist'],\n",
    "                title='Track Popularity vs Total Listening Time',\n",
    "                labels={'play_count': 'Number of Plays', 'minutes_played': 'Total Minutes Played'})\n",
    "fig.update_layout(height=500)\n",
    "fig.show()"
   ]
  },
  {
   "cell_type": "markdown",
   "metadata": {},
   "source": [
    "## 📈 Custom Analysis\n",
    "\n",
    "Use the cells below for your own custom analysis!"
   ]
  },
  {
   "cell_type": "code",
   "execution_count": null,
   "metadata": {},
   "outputs": [],
   "source": [
    "print(\"Available columns for analysis:\")\n",
    "print(df.columns.tolist())"
   ]
  },
  {
   "cell_type": "code",
   "execution_count": null,
   "metadata": {},
   "outputs": [],
   "source": []
  }
 ],
 "metadata": {
  "kernelspec": {
   "display_name": "Python 3",
   "language": "python",
   "name": "python3"
  },
  "language_info": {
   "codemirror_mode": {
    "name": "ipython",
    "version": 3
   },
   "file_extension": ".py",
   "mimetype": "text/x-python",
   "name": "python",
   "nbconvert_exporter": "python",
   "pygments_lexer": "ipython3",
   "version": "3.8.5"
  }
 },
 "nbformat": 4,
 "nbformat_minor": 4
}
